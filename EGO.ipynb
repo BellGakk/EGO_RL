{
 "cells": [
  {
   "cell_type": "code",
   "execution_count": null,
   "metadata": {},
   "outputs": [],
   "source": [
    "import numpy as np\n",
    "from smt.applications import EGO\n",
    "from smt.surrogate_models import KRG\n",
    "from smt.utils.design_space import DesignSpace\n",
    "import matplotlib.pyplot as plt"
   ]
  }
 ],
 "metadata": {
  "language_info": {
   "name": "python"
  }
 },
 "nbformat": 4,
 "nbformat_minor": 2
}
